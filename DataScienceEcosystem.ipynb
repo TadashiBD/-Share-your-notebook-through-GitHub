{
 "cells": [
  {
   "cell_type": "markdown",
   "id": "48bd5a46-7245-45e8-a672-27c0f5747901",
   "metadata": {},
   "source": [
    "## Data Science Tools and Ecosystem"
   ]
  },
  {
   "cell_type": "markdown",
   "id": "ad838670-e2fa-414d-8b7b-fd83b6191a60",
   "metadata": {},
   "source": [
    "In this notebook, Data Science Tools and Ecosystem are summarized."
   ]
  },
  {
   "cell_type": "markdown",
   "id": "e040d45a-d0b7-4d0d-8db7-9c4158443cb3",
   "metadata": {},
   "source": [
    "Some of the popular languages that Data Scientists use are:\n",
    "\n",
    "1. Python\n",
    "2. R\n",
    "3. SQL\n",
    "4. C++ etc..;"
   ]
  },
  {
   "cell_type": "markdown",
   "id": "8150957a-3714-4503-b027-c1ed20f84326",
   "metadata": {},
   "source": [
    "Some of the commonly used libraries used by Data Scientists include:\n",
    "\n",
    "1. TensorFlow\n",
    "2. NumPy\n",
    "3. sciPy\n",
    "4. Pandas\n",
    "5. Matplotlib\n",
    "6. SciKit-Learn\n",
    "7. Pyrorch. etc.. ;"
   ]
  },
  {
   "cell_type": "markdown",
   "id": "08e6ea91-8acc-45e9-aaa2-40322b085b2a",
   "metadata": {},
   "source": [
    "|Data science Tools|\n",
    "|---|\n",
    "| SAS |\n",
    "|Apache Hadoop|\n",
    "|TensorFlow|"
   ]
  },
  {
   "cell_type": "markdown",
   "id": "75ebccf3-e10f-4da0-93cd-45dcfff16ce0",
   "metadata": {},
   "source": [
    "### Below are a few examples of evaluating arithmetic expressions in Python"
   ]
  },
  {
   "cell_type": "code",
   "execution_count": 26,
   "id": "cd28c9f0-1eb4-41ab-ad21-e301f450cbd7",
   "metadata": {},
   "outputs": [
    {
     "data": {
      "text/plain": [
       "17"
      ]
     },
     "execution_count": 26,
     "metadata": {},
     "output_type": "execute_result"
    }
   ],
   "source": [
    "#this is a common arithmetic example to multiply and then add integers\n",
    "(3*4)+5"
   ]
  },
  {
   "cell_type": "code",
   "execution_count": 28,
   "id": "1158147d-6355-4a36-b9cf-e856544fc230",
   "metadata": {},
   "outputs": [
    {
     "data": {
      "text/plain": [
       "3.3333333333333335"
      ]
     },
     "execution_count": 28,
     "metadata": {},
     "output_type": "execute_result"
    }
   ],
   "source": [
    "#This will convert 200 minutes to hours by diving by 60\n",
    "200/60"
   ]
  },
  {
   "cell_type": "markdown",
   "id": "178202cf-3b52-4227-8d83-2a7c2c8ac33d",
   "metadata": {},
   "source": [
    "__Objective__\n",
    "* List popular languages for Data Science\n",
    "* List popular libraries for Data Science\n",
    "* List of well known Data Science Tools\n",
    "* How to Provide comments in the cell"
   ]
  },
  {
   "cell_type": "markdown",
   "id": "a2adb3f2-5ffc-46b4-8174-83facb6685de",
   "metadata": {},
   "source": [
    "## Author\n",
    "Tadashi Buitron"
   ]
  },
  {
   "cell_type": "code",
   "execution_count": null,
   "id": "830eb088-1bcf-4d27-b4b4-5d4ba7ca8e6c",
   "metadata": {},
   "outputs": [],
   "source": []
  }
 ],
 "metadata": {
  "kernelspec": {
   "display_name": "Python 3 (ipykernel)",
   "language": "python",
   "name": "python3"
  },
  "language_info": {
   "codemirror_mode": {
    "name": "ipython",
    "version": 3
   },
   "file_extension": ".py",
   "mimetype": "text/x-python",
   "name": "python",
   "nbconvert_exporter": "python",
   "pygments_lexer": "ipython3",
   "version": "3.12.4"
  }
 },
 "nbformat": 4,
 "nbformat_minor": 5
}
